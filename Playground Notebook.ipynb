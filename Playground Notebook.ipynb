{
 "cells": [
  {
   "attachments": {},
   "cell_type": "markdown",
   "metadata": {},
   "source": [
    "# Playground"
   ]
  },
  {
   "cell_type": "code",
   "execution_count": 1,
   "metadata": {},
   "outputs": [],
   "source": [
    "import tqdm\n",
    "import numpy as np\n",
    "import torch\n",
    "\n",
    "#sys.path.append(\"..\")\n",
    "#import qcircuitnlp.utils as utils\n",
    "import clifford as cl\n",
    "from qiskit.synthesis import synth_clifford_full"
   ]
  },
  {
   "cell_type": "code",
   "execution_count": 2,
   "metadata": {},
   "outputs": [],
   "source": [
    "import matplotlib \n",
    "import matplotlib.pyplot as plt\n",
    "from matplotlib.cm import get_cmap\n",
    "from cycler import cycler\n",
    "\n",
    "plt.rcParams['xtick.direction'] = 'in'\n",
    "plt.rcParams['ytick.direction'] = 'in'\n",
    "plt.rcParams['xtick.major.size'] = 5.0\n",
    "plt.rcParams['xtick.minor.size'] = 3.0\n",
    "plt.rcParams['ytick.major.size'] = 5.0\n",
    "plt.rcParams['ytick.minor.size'] = 3.0\n",
    "plt.rc('font', family='serif',size=14)\n",
    "#matplotlib.rc('text', usetex=True)\n",
    "matplotlib.rc('legend', fontsize=14)\n",
    "plt.rcParams['ytick.minor.size'] = 3.0\n",
    "matplotlib.rcParams.update({\"axes.grid\" : True, \n",
    "                            \"grid.alpha\": 0.75,\n",
    "                            \"grid.linewidth\": 0.5})\n",
    "matplotlib.rcParams['axes.prop_cycle'] = cycler(color=['#E24A33', '#348ABD', '#988ED5', '#777777', '#FBC15E', '#8EBA42', '#FFB5B8'])\n",
    "colors = plt.rcParams['axes.prop_cycle'].by_key()['color']"
   ]
  },
  {
   "cell_type": "code",
   "execution_count": 3,
   "metadata": {},
   "outputs": [
    {
     "name": "stdout",
     "output_type": "stream",
     "text": [
      "cpu\n"
     ]
    }
   ],
   "source": [
    "## Set RNG\n",
    "rng = np.random.default_rng(1337)\n",
    "\n",
    "## if there is a GPU, use it\n",
    "device = torch.device(\"cuda\" if torch.cuda.is_available() else \"cpu\")\n",
    "device = torch.device('cpu')\n",
    "print(device)"
   ]
  },
  {
   "cell_type": "code",
   "execution_count": 4,
   "metadata": {},
   "outputs": [],
   "source": [
    "## run hyper-parameters\n",
    "weight_dict = {\n",
    "    'x':1,\n",
    "    'y':1,\n",
    "    'z':1,\n",
    "    'h':1,\n",
    "    's':1,\n",
    "    'sdg':1,\n",
    "    'cx':30,\n",
    "    'swap':90\n",
    "    }"
   ]
  },
  {
   "cell_type": "code",
   "execution_count": 5,
   "metadata": {},
   "outputs": [
    {
     "name": "stderr",
     "output_type": "stream",
     "text": [
      "loss=-0.6624, lr=7.149e-04:  55%|█████▌    | 550/1000 [04:10<03:25,  2.19it/s]\n"
     ]
    },
    {
     "ename": "KeyboardInterrupt",
     "evalue": "",
     "output_type": "error",
     "traceback": [
      "\u001b[0;31m---------------------------------------------------------------------------\u001b[0m",
      "\u001b[0;31mKeyboardInterrupt\u001b[0m                         Traceback (most recent call last)",
      "Cell \u001b[0;32mIn[5], line 12\u001b[0m\n\u001b[1;32m      2\u001b[0m drop_phase_bits \u001b[39m=\u001b[39m \u001b[39mTrue\u001b[39;00m\n\u001b[1;32m      4\u001b[0m lgf_model \u001b[39m=\u001b[39m cl\u001b[39m.\u001b[39mLGFModel(\n\u001b[1;32m      5\u001b[0m     num_qubits\u001b[39m=\u001b[39mnum_qubits,\n\u001b[1;32m      6\u001b[0m     device\u001b[39m=\u001b[39mdevice,\n\u001b[0;32m   (...)\u001b[0m\n\u001b[1;32m      9\u001b[0m     drop_phase_bits\u001b[39m=\u001b[39mdrop_phase_bits\n\u001b[1;32m     10\u001b[0m     )\u001b[39m.\u001b[39mto(device)\n\u001b[0;32m---> 12\u001b[0m loss_history \u001b[39m=\u001b[39m lgf_model\u001b[39m.\u001b[39;49mtrain(\n\u001b[1;32m     13\u001b[0m     batch_size\u001b[39m=\u001b[39;49m\u001b[39m2000\u001b[39;49m,\n\u001b[1;32m     14\u001b[0m     lr\u001b[39m=\u001b[39;49m\u001b[39m1e-4\u001b[39;49m,\n\u001b[1;32m     15\u001b[0m     num_epochs\u001b[39m=\u001b[39;49m\u001b[39m1000\u001b[39;49m,\n\u001b[1;32m     16\u001b[0m     weight_dict\u001b[39m=\u001b[39;49mweight_dict,\n\u001b[1;32m     17\u001b[0m     \u001b[39m#high=50\u001b[39;49;00m\n\u001b[1;32m     18\u001b[0m     )\n",
      "File \u001b[0;32m~/Documents/GitHub/Rubik's Cube/rubiks-clifford-synthesis/clifford.py:1010\u001b[0m, in \u001b[0;36mLGFModel.train\u001b[0;34m(self, batch_size, lr, num_epochs, weight_dict, high)\u001b[0m\n\u001b[1;32m   1007\u001b[0m pbar\u001b[39m.\u001b[39mset_description(\u001b[39mf\u001b[39m\u001b[39m'\u001b[39m\u001b[39mloss=\u001b[39m\u001b[39m{\u001b[39;00mloss_current\u001b[39m:\u001b[39;00m\u001b[39m.4f\u001b[39m\u001b[39m}\u001b[39;00m\u001b[39m, lr=\u001b[39m\u001b[39m{\u001b[39;00mlr\u001b[39m:\u001b[39;00m\u001b[39m.3e\u001b[39m\u001b[39m}\u001b[39;00m\u001b[39m'\u001b[39m)\n\u001b[1;32m   1009\u001b[0m \u001b[39m## sample a batch of Cliffords\u001b[39;00m\n\u001b[0;32m-> 1010\u001b[0m x_batch, seq_lens \u001b[39m=\u001b[39m generate_data_batch(\n\u001b[1;32m   1011\u001b[0m     \u001b[39mself\u001b[39;49m\u001b[39m.\u001b[39;49mrng,\n\u001b[1;32m   1012\u001b[0m     batch_size,\n\u001b[1;32m   1013\u001b[0m     \u001b[39mself\u001b[39;49m\u001b[39m.\u001b[39;49mnum_qubits,\n\u001b[1;32m   1014\u001b[0m     \u001b[39mself\u001b[39;49m\u001b[39m.\u001b[39;49mdevice,\n\u001b[1;32m   1015\u001b[0m     weight_dict,\n\u001b[1;32m   1016\u001b[0m     high,\n\u001b[1;32m   1017\u001b[0m     \u001b[39mself\u001b[39;49m\u001b[39m.\u001b[39;49mdrop_phase_bits,\n\u001b[1;32m   1018\u001b[0m     \u001b[39mself\u001b[39;49m\u001b[39m.\u001b[39;49muse_qiskit\n\u001b[1;32m   1019\u001b[0m     )\n\u001b[1;32m   1020\u001b[0m out \u001b[39m=\u001b[39m \u001b[39mself\u001b[39m\u001b[39m.\u001b[39mforward(x_batch)\n\u001b[1;32m   1022\u001b[0m \u001b[39m#loss = torch.nn.MSELoss(reduction='mean')(out, seq_lens)\u001b[39;00m\n\u001b[1;32m   1023\u001b[0m \u001b[39m#loss = torch.mean(torch.square(out - seq_lens))\u001b[39;00m\n",
      "File \u001b[0;32m~/Documents/GitHub/Rubik's Cube/rubiks-clifford-synthesis/clifford.py:388\u001b[0m, in \u001b[0;36mgenerate_data_batch\u001b[0;34m(rng, num_batch, num_qubits, device, weight_dict, high, drop_phase_bits, use_qiskit)\u001b[0m\n\u001b[1;32m    385\u001b[0m \u001b[39mfor\u001b[39;00m _ \u001b[39min\u001b[39;00m \u001b[39mrange\u001b[39m(num_batch):\n\u001b[1;32m    386\u001b[0m     \u001b[39m## sample a random sequence\u001b[39;00m\n\u001b[1;32m    387\u001b[0m     sequence_length \u001b[39m=\u001b[39m rng\u001b[39m.\u001b[39mintegers(low\u001b[39m=\u001b[39m\u001b[39m1\u001b[39m, high\u001b[39m=\u001b[39mhigh)\n\u001b[0;32m--> 388\u001b[0m     sequence \u001b[39m=\u001b[39m random_sequence(rng, sequence_length, num_qubits)\n\u001b[1;32m    389\u001b[0m     distance_raw \u001b[39m=\u001b[39m weighted_distance_to_identity(sequence, normalized_weight_dict)\n\u001b[1;32m    390\u001b[0m     tableau \u001b[39m=\u001b[39m sequence_to_tableau(sequence, num_qubits)\u001b[39m.\u001b[39mtableau\n",
      "File \u001b[0;32m~/Documents/GitHub/Rubik's Cube/rubiks-clifford-synthesis/clifford.py:161\u001b[0m, in \u001b[0;36mrandom_sequence\u001b[0;34m(rng, seq_length, num_qubits)\u001b[0m\n\u001b[1;32m    158\u001b[0m seq \u001b[39m=\u001b[39m []\n\u001b[1;32m    159\u001b[0m \u001b[39mfor\u001b[39;00m _ \u001b[39min\u001b[39;00m \u001b[39mrange\u001b[39m(seq_length):\n\u001b[1;32m    160\u001b[0m     \u001b[39m## pick the qubit\u001b[39;00m\n\u001b[0;32m--> 161\u001b[0m     qubit1 \u001b[39m=\u001b[39m rng\u001b[39m.\u001b[39;49mchoice(\u001b[39mlist\u001b[39;49m(\u001b[39mrange\u001b[39;49m(num_qubits)))\n\u001b[1;32m    163\u001b[0m     \u001b[39m## pick the gate\u001b[39;00m\n\u001b[1;32m    164\u001b[0m     gate \u001b[39m=\u001b[39m rng\u001b[39m.\u001b[39mchoice(GATES)\n",
      "File \u001b[0;32m_generator.pyx:769\u001b[0m, in \u001b[0;36mnumpy.random._generator.Generator.choice\u001b[0;34m()\u001b[0m\n",
      "File \u001b[0;32m_generator.pyx:543\u001b[0m, in \u001b[0;36mnumpy.random._generator.Generator.integers\u001b[0;34m()\u001b[0m\n",
      "File \u001b[0;32m_bounded_integers.pyx:1228\u001b[0m, in \u001b[0;36mnumpy.random._bounded_integers._rand_int64\u001b[0;34m()\u001b[0m\n",
      "File \u001b[0;32m<__array_function__ internals>:180\u001b[0m, in \u001b[0;36mprod\u001b[0;34m(*args, **kwargs)\u001b[0m\n",
      "File \u001b[0;32m~/miniforge3/envs/qlp/lib/python3.10/site-packages/numpy/core/fromnumeric.py:3045\u001b[0m, in \u001b[0;36mprod\u001b[0;34m(a, axis, dtype, out, keepdims, initial, where)\u001b[0m\n\u001b[1;32m   2927\u001b[0m \u001b[39m@array_function_dispatch\u001b[39m(_prod_dispatcher)\n\u001b[1;32m   2928\u001b[0m \u001b[39mdef\u001b[39;00m \u001b[39mprod\u001b[39m(a, axis\u001b[39m=\u001b[39m\u001b[39mNone\u001b[39;00m, dtype\u001b[39m=\u001b[39m\u001b[39mNone\u001b[39;00m, out\u001b[39m=\u001b[39m\u001b[39mNone\u001b[39;00m, keepdims\u001b[39m=\u001b[39mnp\u001b[39m.\u001b[39m_NoValue,\n\u001b[1;32m   2929\u001b[0m          initial\u001b[39m=\u001b[39mnp\u001b[39m.\u001b[39m_NoValue, where\u001b[39m=\u001b[39mnp\u001b[39m.\u001b[39m_NoValue):\n\u001b[1;32m   2930\u001b[0m \u001b[39m    \u001b[39m\u001b[39m\"\"\"\u001b[39;00m\n\u001b[1;32m   2931\u001b[0m \u001b[39m    Return the product of array elements over a given axis.\u001b[39;00m\n\u001b[1;32m   2932\u001b[0m \n\u001b[0;32m   (...)\u001b[0m\n\u001b[1;32m   3043\u001b[0m \u001b[39m    10\u001b[39;00m\n\u001b[1;32m   3044\u001b[0m \u001b[39m    \"\"\"\u001b[39;00m\n\u001b[0;32m-> 3045\u001b[0m     \u001b[39mreturn\u001b[39;00m _wrapreduction(a, np\u001b[39m.\u001b[39;49mmultiply, \u001b[39m'\u001b[39;49m\u001b[39mprod\u001b[39;49m\u001b[39m'\u001b[39;49m, axis, dtype, out,\n\u001b[1;32m   3046\u001b[0m                           keepdims\u001b[39m=\u001b[39;49mkeepdims, initial\u001b[39m=\u001b[39;49minitial, where\u001b[39m=\u001b[39;49mwhere)\n",
      "File \u001b[0;32m~/miniforge3/envs/qlp/lib/python3.10/site-packages/numpy/core/fromnumeric.py:69\u001b[0m, in \u001b[0;36m_wrapreduction\u001b[0;34m(obj, ufunc, method, axis, dtype, out, **kwargs)\u001b[0m\n\u001b[1;32m     58\u001b[0m     \u001b[39mexcept\u001b[39;00m \u001b[39mTypeError\u001b[39;00m:\n\u001b[1;32m     59\u001b[0m         \u001b[39m# A TypeError occurs if the object does have such a method in its\u001b[39;00m\n\u001b[1;32m     60\u001b[0m         \u001b[39m# class, but its signature is not identical to that of NumPy's. This\u001b[39;00m\n\u001b[0;32m   (...)\u001b[0m\n\u001b[1;32m     64\u001b[0m         \u001b[39m# Call _wrapit from within the except clause to ensure a potential\u001b[39;00m\n\u001b[1;32m     65\u001b[0m         \u001b[39m# exception has a traceback chain.\u001b[39;00m\n\u001b[1;32m     66\u001b[0m         \u001b[39mreturn\u001b[39;00m _wrapit(obj, method, \u001b[39m*\u001b[39margs, \u001b[39m*\u001b[39m\u001b[39m*\u001b[39mkwds)\n\u001b[0;32m---> 69\u001b[0m \u001b[39mdef\u001b[39;00m \u001b[39m_wrapreduction\u001b[39m(obj, ufunc, method, axis, dtype, out, \u001b[39m*\u001b[39m\u001b[39m*\u001b[39mkwargs):\n\u001b[1;32m     70\u001b[0m     passkwargs \u001b[39m=\u001b[39m {k: v \u001b[39mfor\u001b[39;00m k, v \u001b[39min\u001b[39;00m kwargs\u001b[39m.\u001b[39mitems()\n\u001b[1;32m     71\u001b[0m                   \u001b[39mif\u001b[39;00m v \u001b[39mis\u001b[39;00m \u001b[39mnot\u001b[39;00m np\u001b[39m.\u001b[39m_NoValue}\n\u001b[1;32m     73\u001b[0m     \u001b[39mif\u001b[39;00m \u001b[39mtype\u001b[39m(obj) \u001b[39mis\u001b[39;00m \u001b[39mnot\u001b[39;00m mu\u001b[39m.\u001b[39mndarray:\n",
      "\u001b[0;31mKeyboardInterrupt\u001b[0m: "
     ]
    }
   ],
   "source": [
    "num_qubits = 3\n",
    "drop_phase_bits = True\n",
    "\n",
    "lgf_model = cl.LGFModel(\n",
    "    num_qubits=num_qubits,\n",
    "    device=device,\n",
    "    rng=rng,\n",
    "    #hidden_layers=[32, 16, 4],\n",
    "    drop_phase_bits=drop_phase_bits\n",
    "    ).to(device)\n",
    "\n",
    "loss_history = lgf_model.train(\n",
    "    batch_size=2000,\n",
    "    lr=1e-4,\n",
    "    num_epochs=1000,\n",
    "    weight_dict=weight_dict,\n",
    "    #high=50\n",
    "    )"
   ]
  },
  {
   "cell_type": "code",
   "execution_count": 6,
   "metadata": {},
   "outputs": [
    {
     "ename": "NameError",
     "evalue": "name 'loss_history' is not defined",
     "output_type": "error",
     "traceback": [
      "\u001b[0;31m---------------------------------------------------------------------------\u001b[0m",
      "\u001b[0;31mNameError\u001b[0m                                 Traceback (most recent call last)",
      "Cell \u001b[0;32mIn[6], line 2\u001b[0m\n\u001b[1;32m      1\u001b[0m fig, ax \u001b[39m=\u001b[39m plt\u001b[39m.\u001b[39msubplots(figsize\u001b[39m=\u001b[39m(\u001b[39m7\u001b[39m,\u001b[39m5\u001b[39m))\n\u001b[0;32m----> 2\u001b[0m ax\u001b[39m.\u001b[39mplot(np\u001b[39m.\u001b[39masarray(loss_history), \u001b[39m'\u001b[39m\u001b[39m-o\u001b[39m\u001b[39m'\u001b[39m, markersize\u001b[39m=\u001b[39m\u001b[39m3\u001b[39m, markeredgecolor\u001b[39m=\u001b[39m\u001b[39m'\u001b[39m\u001b[39mk\u001b[39m\u001b[39m'\u001b[39m)\n\u001b[1;32m      3\u001b[0m ax\u001b[39m.\u001b[39mset_xlabel(\u001b[39m'\u001b[39m\u001b[39mtraining iterations\u001b[39m\u001b[39m'\u001b[39m)\n\u001b[1;32m      4\u001b[0m ax\u001b[39m.\u001b[39mset_ylabel(\u001b[39m'\u001b[39m\u001b[39mloss\u001b[39m\u001b[39m'\u001b[39m, fontsize\u001b[39m=\u001b[39m\u001b[39m16\u001b[39m)\n",
      "\u001b[0;31mNameError\u001b[0m: name 'loss_history' is not defined"
     ]
    },
    {
     "data": {
      "image/png": "[encoded data removed]",
      "text/plain": [
       "<Figure size 700x500 with 1 Axes>"
      ]
     },
     "metadata": {},
     "output_type": "display_data"
    }
   ],
   "source": [
    "fig, ax = plt.subplots(figsize=(7,5))\n",
    "ax.plot(np.asarray(loss_history), '-o', markersize=3, markeredgecolor='k')\n",
    "ax.set_xlabel('training iterations')\n",
    "ax.set_ylabel('loss', fontsize=16)\n",
    "ax.set_title('Loss Throughout Training', fontsize=14)\n",
    "#ax.set_ylim([0, 50])\n",
    "plt.minorticks_on()\n",
    "#ax.set_xscale('log')\n",
    "plt.show()"
   ]
  },
  {
   "cell_type": "code",
   "execution_count": 28,
   "metadata": {},
   "outputs": [],
   "source": [
    "problem = cl.Problem(\n",
    "    num_qubits,\n",
    "    drop_phase_bits=drop_phase_bits,\n",
    "    seed=11\n",
    "    #initial_state=cl.sequence_to_tableau([], num_qubits)\n",
    "    )\n",
    "\n",
    "result = cl.hillclimbing(\n",
    "    problem.state,\n",
    "    lgf_model,\n",
    "    max_iter=1000,\n",
    "    seed=123,\n",
    "    )"
   ]
  },
  {
   "cell_type": "code",
   "execution_count": 29,
   "metadata": {},
   "outputs": [
    {
     "data": {
      "text/plain": [
       "True"
      ]
     },
     "execution_count": 29,
     "metadata": {},
     "output_type": "execute_result"
    }
   ],
   "source": [
    "result['success']"
   ]
  },
  {
   "cell_type": "code",
   "execution_count": 36,
   "metadata": {},
   "outputs": [
    {
     "data": {
      "text/plain": [
       "9"
      ]
     },
     "execution_count": 36,
     "metadata": {},
     "output_type": "execute_result"
    }
   ],
   "source": []
  },
  {
   "cell_type": "code",
   "execution_count": 35,
   "metadata": {},
   "outputs": [
    {
     "data": {
      "text/plain": [
       "[(0, 1, 'cx'),\n",
       " (2, 0, 'cx'),\n",
       " (2, 0, 'cx'),\n",
       " (0, 1, 'cx'),\n",
       " (0, 1, 'cx'),\n",
       " (0, 1, 'cx')]"
      ]
     },
     "execution_count": 35,
     "metadata": {},
     "output_type": "execute_result"
    }
   ],
   "source": []
  },
  {
   "cell_type": "code",
   "execution_count": null,
   "metadata": {},
   "outputs": [
    {
     "data": {
      "text/plain": [
       "(3, True)"
      ]
     },
     "execution_count": 9,
     "metadata": {},
     "output_type": "execute_result"
    }
   ],
   "source": [
    "num_qubits, drop_phase_bits"
   ]
  },
  {
   "cell_type": "code",
   "execution_count": null,
   "metadata": {},
   "outputs": [],
   "source": []
  },
  {
   "cell_type": "code",
   "execution_count": 11,
   "metadata": {},
   "outputs": [
    {
     "data": {
      "text/plain": [
       "array([[1., 0., 0., 0., 0., 0.],\n",
       "       [0., 1., 0., 0., 0., 0.],\n",
       "       [0., 0., 1., 0., 0., 0.],\n",
       "       [0., 0., 0., 1., 0., 0.],\n",
       "       [0., 0., 0., 0., 1., 0.],\n",
       "       [0., 0., 0., 0., 0., 1.]])"
      ]
     },
     "execution_count": 11,
     "metadata": {},
     "output_type": "execute_result"
    }
   ],
   "source": []
  },
  {
   "cell_type": "code",
   "execution_count": 12,
   "metadata": {},
   "outputs": [
    {
     "name": "stdout",
     "output_type": "stream",
     "text": [
      "yes\n"
     ]
    }
   ],
   "source": [
    "if problem.drop_phase_bits:\n",
    "    if np.array_equal(1*problem.state.tableau[:,:-1], np.eye(2*problem.num_qubits)):\n",
    "        print('yes')"
   ]
  },
  {
   "cell_type": "code",
   "execution_count": null,
   "metadata": {},
   "outputs": [],
   "source": [
    "num_trials = 1000\n",
    "max_iter = 1000\n",
    "\n",
    "## using the LGF\n",
    "steps_until_success = cl.compute_weighted_steps_until_success(\n",
    "    lgf_model=lgf_model,\n",
    "    weight_dict=weight_dict,\n",
    "    num_trials=num_trials, \n",
    "    max_iter=max_iter\n",
    "    )\n",
    "\n",
    "## applying a purely random move\n",
    "steps_until_success_random = cl.compute_weighted_steps_until_success(\n",
    "    lgf_model=lgf_model, \n",
    "    weight_dict=weight_dict,\n",
    "    num_trials=num_trials, \n",
    "    max_iter=max_iter,\n",
    "    method='random'\n",
    "    )\n",
    "\n",
    "## use qiskit method\n",
    "steps_until_success_qiskit = cl.compute_weighted_steps_until_success(\n",
    "    lgf_model=lgf_model, \n",
    "    weight_dict=weight_dict,\n",
    "    num_trials=num_trials, \n",
    "    max_iter=max_iter,\n",
    "    method='qiskit'\n",
    "    )"
   ]
  },
  {
   "cell_type": "code",
   "execution_count": null,
   "metadata": {},
   "outputs": [],
   "source": [
    "from importlib import reload\n",
    "reload(cl)"
   ]
  },
  {
   "cell_type": "code",
   "execution_count": null,
   "metadata": {},
   "outputs": [],
   "source": [
    "cum_steps_utils_success = np.sort([n for n in steps_until_success if n is not None])\n",
    "cum_steps_utils_success_random = np.sort([n for n in steps_until_success_random if n is not None])\n",
    "cum_steps_utils_success_qiskit = np.sort(steps_until_success_qiskit)\n",
    "\n",
    "fig, ax = plt.subplots(figsize=(7,5))\n",
    "ax.step(\n",
    "    cum_steps_utils_success, \n",
    "    np.arange(len(cum_steps_utils_success))/len(steps_until_success), \n",
    "    label='LGF'\n",
    "    )\n",
    "ax.step(\n",
    "    cum_steps_utils_success_random, \n",
    "    np.arange(len(cum_steps_utils_success_random))/len(steps_until_success_random), \n",
    "    label='Random'\n",
    "    )\n",
    "ax.step(\n",
    "    cum_steps_utils_success_qiskit, \n",
    "    np.arange(len(cum_steps_utils_success_qiskit))/len(steps_until_success_qiskit), \n",
    "    label='Qiskit'\n",
    "    )\n",
    "ax.set_xscale('log')\n",
    "ax.set_xlabel('Weighted Hillclimbing Distance')\n",
    "ax.set_ylabel('Fraction of Instances Solved')\n",
    "ax.set_title(f'n={lgf_model.num_qubits} qubits')\n",
    "plt.legend()\n",
    "plt.minorticks_on()\n",
    "plt.show()"
   ]
  },
  {
   "cell_type": "code",
   "execution_count": null,
   "metadata": {},
   "outputs": [],
   "source": [
    "Ntrials = 1000\n",
    "distance = {'qiskit':[], 'lgf':[]}\n",
    "k = 0\n",
    "\n",
    "for n in tqdm.trange(Ntrials):\n",
    "\n",
    "    while True:\n",
    "        #x = random_clifford(num_qubits, seed=k)\n",
    "        x = cl.Problem(num_qubits, seed=k).state\n",
    "        result = cl.hillclimbing(\n",
    "            x,\n",
    "            lgf_model,\n",
    "            max_iter=1000,\n",
    "            seed=k\n",
    "            )\n",
    "        k += 1\n",
    "        if result['success']:\n",
    "            #print('success, k=%i' %k)\n",
    "            break\n",
    "\n",
    "    distance['qiskit'].append(\n",
    "        cl.weighted_distance_to_identity(\n",
    "        synth_clifford_full(x), \n",
    "        weight_dict)\n",
    "        )\n",
    "    distance['lgf'].append(\n",
    "        cl.weighted_distance_to_identity(\n",
    "        result['move_history'], \n",
    "        weight_dict)\n",
    "        )"
   ]
  },
  {
   "cell_type": "code",
   "execution_count": null,
   "metadata": {},
   "outputs": [],
   "source": [
    "x = np.mean([distance['qiskit'][i] > distance['lgf'][i] for i in range(len(distance['qiskit']))])\n",
    "print('fraction of instances where lgf method beat matches qiskit: %.4f' %x)\n",
    "\n",
    "x = np.mean([distance['qiskit'][i] >= distance['lgf'][i] for i in range(len(distance['qiskit']))])\n",
    "print('fraction of instances where lgf method beats or matches qiskit: %.4f' %x)"
   ]
  },
  {
   "cell_type": "code",
   "execution_count": null,
   "metadata": {},
   "outputs": [],
   "source": []
  }
 ],
 "metadata": {
  "kernelspec": {
   "display_name": "qlp",
   "language": "python",
   "name": "python3"
  },
  "language_info": {
   "codemirror_mode": {
    "name": "ipython",
    "version": 3
   },
   "file_extension": ".py",
   "mimetype": "text/x-python",
   "name": "python",
   "nbconvert_exporter": "python",
   "pygments_lexer": "ipython3",
   "version": "3.10.8"
  },
  "orig_nbformat": 4
 },
 "nbformat": 4,
 "nbformat_minor": 2
}
