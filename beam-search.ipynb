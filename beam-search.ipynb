{
 "cells": [
  {
   "cell_type": "markdown",
   "metadata": {},
   "source": [
    "# Notes\n",
    "- simple article: https://www.geeksforgeeks.org/introduction-to-beam-search-algorithm/\n",
    "- many beam search descriptions are given in terms of NLP context\n",
    "- I think A* might not be feasible for large graphs, but I'm not sure...\n",
    "- It'd be nice to code up the Clifford problem in a nice object-oriented with that made the graph structure abstracted, so I could use any old graph traversal algorithm"
   ]
  },
  {
   "cell_type": "code",
   "execution_count": 1,
   "metadata": {},
   "outputs": [],
   "source": [
    "import tqdm\n",
    "from typing import Dict\n",
    "import numpy as np\n",
    "import torch\n",
    "import torch.nn as nn\n",
    "import rubiks.clifford as cl\n",
    "import rubiks.lgf as lgf\n",
    "from qiskit.quantum_info import Clifford"
   ]
  },
  {
   "cell_type": "code",
   "execution_count": 2,
   "metadata": {},
   "outputs": [
    {
     "data": {
      "text/plain": [
       "<All keys matched successfully>"
      ]
     },
     "execution_count": 2,
     "metadata": {},
     "output_type": "execute_result"
    }
   ],
   "source": [
    "num_qubits = 3\n",
    "\n",
    "SEED = 123\n",
    "use_qiskit = False\n",
    "device = torch.device('cpu')\n",
    "drop_phase_bits = True\n",
    "scaling = 'log-linear'\n",
    "data_dir = f\"data/data_n_{num_qubits}_drop_phase_bits_scaling_{scaling}/\"\n",
    "high = cl.max_random_sequence_length(num_qubits, scaling)\n",
    "\n",
    "lgf_model = lgf.LGFModel(\n",
    "    num_qubits=num_qubits,\n",
    "    device=device,\n",
    "    rng=np.random.default_rng(SEED),\n",
    "    hidden_layers=[32, 16, 4, 2],\n",
    "    drop_phase_bits=drop_phase_bits,\n",
    "    use_qiskit=use_qiskit,\n",
    ").to(device)\n",
    "\n",
    "lgf_model.load_state_dict(torch.load(data_dir + \"checkpoint\"))"
   ]
  },
  {
   "cell_type": "markdown",
   "metadata": {},
   "source": [
    "- Put this in the same format as other hillclimbing function\n",
    "- Compare for different values of beam_width\n",
    "    - should agree with previous results for beam_width=1\n",
    "    - should be better for larger beam_widths\n",
    "- Can it be made faster?"
   ]
  },
  {
   "cell_type": "code",
   "execution_count": 3,
   "metadata": {},
   "outputs": [
    {
     "name": "stdout",
     "output_type": "stream",
     "text": [
      "Solution found after 11 steps\n"
     ]
    }
   ],
   "source": [
    "sequence_length = 15\n",
    "initial_sequence = cl.random_sequence(np.random.default_rng(), seq_length=sequence_length, num_qubits=num_qubits)\n",
    "initial_state = cl.sequence_to_tableau(initial_sequence, num_qubits)\n",
    "results_dict = lgf.beam_search(initial_state=initial_state, lgf_model=lgf_model, beam_width=3, max_count=100)\n",
    "\n",
    "count = results_dict['count']\n",
    "success = results_dict['success']\n",
    "\n",
    "if success is None:\n",
    "    print(f\"No solution found after {count} steps\")\n",
    "else:\n",
    "    print(f\"Solution found after {count} steps\")"
   ]
  },
  {
   "cell_type": "code",
   "execution_count": 4,
   "metadata": {},
   "outputs": [
    {
     "data": {
      "text/plain": [
       "12"
      ]
     },
     "execution_count": 4,
     "metadata": {},
     "output_type": "execute_result"
    }
   ],
   "source": [
    "len(results_dict['linked_list'].get_move_list()[:-1])"
   ]
  },
  {
   "cell_type": "code",
   "execution_count": 5,
   "metadata": {},
   "outputs": [
    {
     "data": {
      "text/plain": [
       "[(0, 'x'),\n",
       " (1, 'y'),\n",
       " (2, 'x'),\n",
       " (0, 'z'),\n",
       " (1, 'z'),\n",
       " (2, 'y'),\n",
       " (1, 'y'),\n",
       " (1, 'sdg'),\n",
       " (1, 'h'),\n",
       " (2, 'h'),\n",
       " (0, 1, 'cx'),\n",
       " (0, 2, 'swap')]"
      ]
     },
     "execution_count": 5,
     "metadata": {},
     "output_type": "execute_result"
    }
   ],
   "source": [
    "results_dict['linked_list'].get_move_list()[:-1]"
   ]
  },
  {
   "cell_type": "code",
   "execution_count": null,
   "metadata": {},
   "outputs": [],
   "source": [
    "initial_state @ cl.sequence_to_tableau(results_dict['linked_list'].get_move_list()[:-1][::-1], num_qubits=num_qubits)"
   ]
  },
  {
   "cell_type": "code",
   "execution_count": null,
   "metadata": {},
   "outputs": [],
   "source": []
  }
 ],
 "metadata": {
  "kernelspec": {
   "display_name": "rubiks",
   "language": "python",
   "name": "python3"
  },
  "language_info": {
   "codemirror_mode": {
    "name": "ipython",
    "version": 3
   },
   "file_extension": ".py",
   "mimetype": "text/x-python",
   "name": "python",
   "nbconvert_exporter": "python",
   "pygments_lexer": "ipython3",
   "version": "3.10.11"
  },
  "orig_nbformat": 4
 },
 "nbformat": 4,
 "nbformat_minor": 2
}
