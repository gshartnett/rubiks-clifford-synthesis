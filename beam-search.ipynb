{
 "cells": [
  {
   "cell_type": "markdown",
   "metadata": {},
   "source": [
    "# Notes\n",
    "- simple article: https://www.geeksforgeeks.org/introduction-to-beam-search-algorithm/\n",
    "- many beam search descriptions are given in terms of NLP context\n",
    "- I think A* might not be feasible for large graphs, but I'm not sure...\n",
    "- It'd be nice to code up the Clifford problem in a nice object-oriented with that made the graph structure abstracted, so I could use any old graph traversal algorithm\n",
    "\n",
    "```\n",
    "Start \n",
    "Take the inputs \n",
    "NODE = Root_Node & Found = False\n",
    "If : Node is the Goal Node,\n",
    "     Then Found = True, \n",
    "Else : \n",
    "     Find SUCCs of NODE if any, with its estimated cost&\n",
    "     store it in OPEN List \n",
    "While (Found == false & not able to proceed further), do\n",
    "{\n",
    "     Sort OPEN List\n",
    "     Select top W elements from OPEN list and put it in\n",
    "     W_OPEN list and empty the OPEN list.\n",
    "     for each NODE from W_OPEN list\n",
    "     {\n",
    "         if NODE = Goal,\n",
    "             then FOUND = true \n",
    "         else\n",
    "             Find SUCCs of NODE. If any with its estimated\n",
    "             cost & Store it in OPEN list\n",
    "     }\n",
    "}\n",
    "If FOUND = True,\n",
    "    then return Yes\n",
    "else\n",
    "    return No\n",
    "Stop\n",
    "```"
   ]
  },
  {
   "cell_type": "code",
   "execution_count": 1,
   "metadata": {},
   "outputs": [],
   "source": [
    "import tqdm\n",
    "import numpy as np\n",
    "import torch\n",
    "import rubiks.clifford as cl\n",
    "import rubiks.lgf as lgf\n",
    "from qiskit.quantum_info import Clifford"
   ]
  },
  {
   "cell_type": "code",
   "execution_count": 2,
   "metadata": {},
   "outputs": [
    {
     "data": {
      "text/plain": [
       "<All keys matched successfully>"
      ]
     },
     "execution_count": 2,
     "metadata": {},
     "output_type": "execute_result"
    }
   ],
   "source": [
    "num_qubits = 3\n",
    "\n",
    "SEED = 123\n",
    "use_qiskit = False\n",
    "device = torch.device('cpu')\n",
    "drop_phase_bits = True\n",
    "scaling = 'log-linear'\n",
    "data_dir = f\"data/data_n_{num_qubits}_drop_phase_bits_scaling_{scaling}/\"\n",
    "high = cl.max_random_sequence_length(num_qubits, scaling)\n",
    "\n",
    "lgf_model = lgf.LGFModel(\n",
    "    num_qubits=num_qubits,\n",
    "    device=device,\n",
    "    rng=np.random.default_rng(SEED),\n",
    "    hidden_layers=[32, 16, 4, 2],\n",
    "    drop_phase_bits=drop_phase_bits,\n",
    "    use_qiskit=use_qiskit,\n",
    ").to(device)\n",
    "\n",
    "lgf_model.load_state_dict(torch.load(data_dir + \"checkpoint\"))"
   ]
  },
  {
   "cell_type": "code",
   "execution_count": 65,
   "metadata": {},
   "outputs": [],
   "source": [
    "def beam_search(initial_state: Clifford, beam_width=1, max_count=100):\n",
    "\n",
    "    # initialize the starting node\n",
    "    problem = cl.Problem(\n",
    "        lgf_model.num_qubits,\n",
    "        high=high,\n",
    "        seed=2305843009213693951 + 0,\n",
    "        initial_state=initial_state,\n",
    "    )\n",
    "    num_moves = len(problem.move_set)\n",
    "    identity_array = 1 * cl.sequence_to_tableau([], problem.num_qubits).tableau\n",
    "\n",
    "    # perform the search\n",
    "    beam = [problem.to_bitstring()]\n",
    "    visited_nodes = {problem.to_bitstring()}\n",
    "    count = 0\n",
    "    while (len(beam) > 0) and (count < max_count):\n",
    "\n",
    "        # loop over nodes in current beam (maximum of beam_width items)\n",
    "        next_beam = []\n",
    "        next_beam_lgf_values = []\n",
    "        for node_str in beam:\n",
    "\n",
    "            # grab the neighbors\n",
    "            node = cl.Problem(num_qubits=num_qubits, initial_state=node_str)\n",
    "            neighbors = node.generate_neighbors() # (M, 2N, 2N+1) array\n",
    "            \n",
    "            # compute neighbors and check for solution\n",
    "            for i_move in range(num_moves):\n",
    "                neighbor = cl.Problem(num_qubits=num_qubits, initial_state=Clifford(neighbors[i_move]))\n",
    "                neighbor_str = neighbor.to_bitstring()\n",
    "                next_beam.append(neighbor_str)\n",
    "\n",
    "                # check for solution\n",
    "                if np.array_equal(neighbors[i_move], identity_array):\n",
    "                    return count, visited_nodes\n",
    "                \n",
    "            # compute LGF values for neighbors\n",
    "            neighbors_torch = torch.tensor(neighbors, dtype=torch.float32)\n",
    "            if drop_phase_bits:\n",
    "                neighbors_torch = neighbors_torch[:, :, :-1] # drop phase bits if necessary\n",
    "            neighbors_torch = torch.flatten(neighbors_torch, start_dim=1)\n",
    "            with torch.no_grad():\n",
    "                lgf_of_neighbors = lgf_model.forward(neighbors_torch).numpy()\n",
    "            next_beam_lgf_values.extend(list(lgf_of_neighbors))\n",
    "\n",
    "        # discard previously visited nodes and update beam\n",
    "        next_beam_lgf_values = [lgf_val for i, lgf_val in enumerate(next_beam_lgf_values) if next_beam[i] not in visited_nodes]\n",
    "        next_beam = [beam for beam in next_beam if beam not in visited_nodes]\n",
    "        beam = [x for _, x in sorted(zip(next_beam_lgf_values, next_beam))][:beam_width]\n",
    "\n",
    "        # update visited nodes\n",
    "        visited_nodes.update(next_beam)\n",
    "\n",
    "        count += 1\n",
    "\n",
    "    return count, None"
   ]
  },
  {
   "cell_type": "markdown",
   "metadata": {},
   "source": [
    "- Put this in the same format as other hillclimbing function\n",
    "- Compare for different values of beam_width\n",
    "    - should agree with previous results for beam_width=1\n",
    "    - should be better for larger beam_widths\n",
    "- Can it be made faster?"
   ]
  },
  {
   "cell_type": "code",
   "execution_count": 68,
   "metadata": {},
   "outputs": [
    {
     "name": "stdout",
     "output_type": "stream",
     "text": [
      "Solution found after 4 steps\n"
     ]
    }
   ],
   "source": [
    "seq_length = 10\n",
    "initial_state = cl.sequence_to_tableau(cl.random_sequence(np.random.default_rng(), seq_length=seq_length, num_qubits=num_qubits), num_qubits)\n",
    "count, out = beam_search(initial_state=initial_state, beam_width=3, max_count=100)\n",
    "\n",
    "if out is None:\n",
    "    print(f\"No solution found after {count} steps\")\n",
    "else:\n",
    "    print(f\"Solution found after {count} steps\")"
   ]
  },
  {
   "cell_type": "code",
   "execution_count": null,
   "metadata": {},
   "outputs": [],
   "source": []
  }
 ],
 "metadata": {
  "kernelspec": {
   "display_name": "rubiks",
   "language": "python",
   "name": "python3"
  },
  "language_info": {
   "codemirror_mode": {
    "name": "ipython",
    "version": 3
   },
   "file_extension": ".py",
   "mimetype": "text/x-python",
   "name": "python",
   "nbconvert_exporter": "python",
   "pygments_lexer": "ipython3",
   "version": "3.10.11"
  },
  "orig_nbformat": 4
 },
 "nbformat": 4,
 "nbformat_minor": 2
}
